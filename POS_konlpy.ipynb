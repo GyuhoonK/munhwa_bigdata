{
  "nbformat": 4,
  "nbformat_minor": 0,
  "metadata": {
    "colab": {
      "name": "POS_konlpy.ipynb",
      "provenance": [],
      "collapsed_sections": [],
      "authorship_tag": "ABX9TyN9l+jpQyYa0pq300ZcueMu",
      "include_colab_link": true
    },
    "kernelspec": {
      "name": "python3",
      "display_name": "Python 3"
    },
    "widgets": {
      "application/vnd.jupyter.widget-state+json": {
        "86e8c100fcb344fd97ef0d5deff1de31": {
          "model_module": "@jupyter-widgets/controls",
          "model_name": "HBoxModel",
          "state": {
            "_view_name": "HBoxView",
            "_dom_classes": [],
            "_model_name": "HBoxModel",
            "_view_module": "@jupyter-widgets/controls",
            "_model_module_version": "1.5.0",
            "_view_count": null,
            "_view_module_version": "1.5.0",
            "box_style": "",
            "layout": "IPY_MODEL_84f3093420ab4a1a933fe855f6092c05",
            "_model_module": "@jupyter-widgets/controls",
            "children": [
              "IPY_MODEL_17cf6695c69a42c2bfe6e48e1497742b",
              "IPY_MODEL_43b8029c1f9f44488f8e008a775ff008"
            ]
          }
        },
        "84f3093420ab4a1a933fe855f6092c05": {
          "model_module": "@jupyter-widgets/base",
          "model_name": "LayoutModel",
          "state": {
            "_view_name": "LayoutView",
            "grid_template_rows": null,
            "right": null,
            "justify_content": null,
            "_view_module": "@jupyter-widgets/base",
            "overflow": null,
            "_model_module_version": "1.2.0",
            "_view_count": null,
            "flex_flow": null,
            "width": null,
            "min_width": null,
            "border": null,
            "align_items": null,
            "bottom": null,
            "_model_module": "@jupyter-widgets/base",
            "top": null,
            "grid_column": null,
            "overflow_y": null,
            "overflow_x": null,
            "grid_auto_flow": null,
            "grid_area": null,
            "grid_template_columns": null,
            "flex": null,
            "_model_name": "LayoutModel",
            "justify_items": null,
            "grid_row": null,
            "max_height": null,
            "align_content": null,
            "visibility": null,
            "align_self": null,
            "height": null,
            "min_height": null,
            "padding": null,
            "grid_auto_rows": null,
            "grid_gap": null,
            "max_width": null,
            "order": null,
            "_view_module_version": "1.2.0",
            "grid_template_areas": null,
            "object_position": null,
            "object_fit": null,
            "grid_auto_columns": null,
            "margin": null,
            "display": null,
            "left": null
          }
        },
        "17cf6695c69a42c2bfe6e48e1497742b": {
          "model_module": "@jupyter-widgets/controls",
          "model_name": "FloatProgressModel",
          "state": {
            "_view_name": "ProgressView",
            "style": "IPY_MODEL_57ce055aa371412f911b4671e6fce6f7",
            "_dom_classes": [],
            "description": "  0%",
            "_model_name": "FloatProgressModel",
            "bar_style": "",
            "max": 70,
            "_view_module": "@jupyter-widgets/controls",
            "_model_module_version": "1.5.0",
            "value": 0,
            "_view_count": null,
            "_view_module_version": "1.5.0",
            "orientation": "horizontal",
            "min": 0,
            "description_tooltip": null,
            "_model_module": "@jupyter-widgets/controls",
            "layout": "IPY_MODEL_e9f2ad16662e4fefba97146df5ec49c8"
          }
        },
        "43b8029c1f9f44488f8e008a775ff008": {
          "model_module": "@jupyter-widgets/controls",
          "model_name": "HTMLModel",
          "state": {
            "_view_name": "HTMLView",
            "style": "IPY_MODEL_7b6bcced302b44c597a2dba8af87da1b",
            "_dom_classes": [],
            "description": "",
            "_model_name": "HTMLModel",
            "placeholder": "​",
            "_view_module": "@jupyter-widgets/controls",
            "_model_module_version": "1.5.0",
            "value": " 0/70 [00:00&lt;?, ?it/s]",
            "_view_count": null,
            "_view_module_version": "1.5.0",
            "description_tooltip": null,
            "_model_module": "@jupyter-widgets/controls",
            "layout": "IPY_MODEL_05f57c1c349d4df994e1bad5dc275769"
          }
        },
        "57ce055aa371412f911b4671e6fce6f7": {
          "model_module": "@jupyter-widgets/controls",
          "model_name": "ProgressStyleModel",
          "state": {
            "_view_name": "StyleView",
            "_model_name": "ProgressStyleModel",
            "description_width": "initial",
            "_view_module": "@jupyter-widgets/base",
            "_model_module_version": "1.5.0",
            "_view_count": null,
            "_view_module_version": "1.2.0",
            "bar_color": null,
            "_model_module": "@jupyter-widgets/controls"
          }
        },
        "e9f2ad16662e4fefba97146df5ec49c8": {
          "model_module": "@jupyter-widgets/base",
          "model_name": "LayoutModel",
          "state": {
            "_view_name": "LayoutView",
            "grid_template_rows": null,
            "right": null,
            "justify_content": null,
            "_view_module": "@jupyter-widgets/base",
            "overflow": null,
            "_model_module_version": "1.2.0",
            "_view_count": null,
            "flex_flow": null,
            "width": null,
            "min_width": null,
            "border": null,
            "align_items": null,
            "bottom": null,
            "_model_module": "@jupyter-widgets/base",
            "top": null,
            "grid_column": null,
            "overflow_y": null,
            "overflow_x": null,
            "grid_auto_flow": null,
            "grid_area": null,
            "grid_template_columns": null,
            "flex": null,
            "_model_name": "LayoutModel",
            "justify_items": null,
            "grid_row": null,
            "max_height": null,
            "align_content": null,
            "visibility": null,
            "align_self": null,
            "height": null,
            "min_height": null,
            "padding": null,
            "grid_auto_rows": null,
            "grid_gap": null,
            "max_width": null,
            "order": null,
            "_view_module_version": "1.2.0",
            "grid_template_areas": null,
            "object_position": null,
            "object_fit": null,
            "grid_auto_columns": null,
            "margin": null,
            "display": null,
            "left": null
          }
        },
        "7b6bcced302b44c597a2dba8af87da1b": {
          "model_module": "@jupyter-widgets/controls",
          "model_name": "DescriptionStyleModel",
          "state": {
            "_view_name": "StyleView",
            "_model_name": "DescriptionStyleModel",
            "description_width": "",
            "_view_module": "@jupyter-widgets/base",
            "_model_module_version": "1.5.0",
            "_view_count": null,
            "_view_module_version": "1.2.0",
            "_model_module": "@jupyter-widgets/controls"
          }
        },
        "05f57c1c349d4df994e1bad5dc275769": {
          "model_module": "@jupyter-widgets/base",
          "model_name": "LayoutModel",
          "state": {
            "_view_name": "LayoutView",
            "grid_template_rows": null,
            "right": null,
            "justify_content": null,
            "_view_module": "@jupyter-widgets/base",
            "overflow": null,
            "_model_module_version": "1.2.0",
            "_view_count": null,
            "flex_flow": null,
            "width": null,
            "min_width": null,
            "border": null,
            "align_items": null,
            "bottom": null,
            "_model_module": "@jupyter-widgets/base",
            "top": null,
            "grid_column": null,
            "overflow_y": null,
            "overflow_x": null,
            "grid_auto_flow": null,
            "grid_area": null,
            "grid_template_columns": null,
            "flex": null,
            "_model_name": "LayoutModel",
            "justify_items": null,
            "grid_row": null,
            "max_height": null,
            "align_content": null,
            "visibility": null,
            "align_self": null,
            "height": null,
            "min_height": null,
            "padding": null,
            "grid_auto_rows": null,
            "grid_gap": null,
            "max_width": null,
            "order": null,
            "_view_module_version": "1.2.0",
            "grid_template_areas": null,
            "object_position": null,
            "object_fit": null,
            "grid_auto_columns": null,
            "margin": null,
            "display": null,
            "left": null
          }
        },
        "342d094d693d4b6eb3b3c94883164eb0": {
          "model_module": "@jupyter-widgets/controls",
          "model_name": "HBoxModel",
          "state": {
            "_view_name": "HBoxView",
            "_dom_classes": [],
            "_model_name": "HBoxModel",
            "_view_module": "@jupyter-widgets/controls",
            "_model_module_version": "1.5.0",
            "_view_count": null,
            "_view_module_version": "1.5.0",
            "box_style": "",
            "layout": "IPY_MODEL_9ec5041c4c424e528be9c5baac590e9f",
            "_model_module": "@jupyter-widgets/controls",
            "children": [
              "IPY_MODEL_52f551e114b04dda99d71e8710e72a56",
              "IPY_MODEL_35f44212e8744662a46c7f36380066c7"
            ]
          }
        },
        "9ec5041c4c424e528be9c5baac590e9f": {
          "model_module": "@jupyter-widgets/base",
          "model_name": "LayoutModel",
          "state": {
            "_view_name": "LayoutView",
            "grid_template_rows": null,
            "right": null,
            "justify_content": null,
            "_view_module": "@jupyter-widgets/base",
            "overflow": null,
            "_model_module_version": "1.2.0",
            "_view_count": null,
            "flex_flow": null,
            "width": null,
            "min_width": null,
            "border": null,
            "align_items": null,
            "bottom": null,
            "_model_module": "@jupyter-widgets/base",
            "top": null,
            "grid_column": null,
            "overflow_y": null,
            "overflow_x": null,
            "grid_auto_flow": null,
            "grid_area": null,
            "grid_template_columns": null,
            "flex": null,
            "_model_name": "LayoutModel",
            "justify_items": null,
            "grid_row": null,
            "max_height": null,
            "align_content": null,
            "visibility": null,
            "align_self": null,
            "height": null,
            "min_height": null,
            "padding": null,
            "grid_auto_rows": null,
            "grid_gap": null,
            "max_width": null,
            "order": null,
            "_view_module_version": "1.2.0",
            "grid_template_areas": null,
            "object_position": null,
            "object_fit": null,
            "grid_auto_columns": null,
            "margin": null,
            "display": null,
            "left": null
          }
        },
        "52f551e114b04dda99d71e8710e72a56": {
          "model_module": "@jupyter-widgets/controls",
          "model_name": "FloatProgressModel",
          "state": {
            "_view_name": "ProgressView",
            "style": "IPY_MODEL_9be07a4219c044869c7df613d315e86a",
            "_dom_classes": [],
            "description": "  5%",
            "_model_name": "FloatProgressModel",
            "bar_style": "",
            "max": 1000,
            "_view_module": "@jupyter-widgets/controls",
            "_model_module_version": "1.5.0",
            "value": 47,
            "_view_count": null,
            "_view_module_version": "1.5.0",
            "orientation": "horizontal",
            "min": 0,
            "description_tooltip": null,
            "_model_module": "@jupyter-widgets/controls",
            "layout": "IPY_MODEL_4d4114d49f0b4dcea179ae547d5d5aef"
          }
        },
        "35f44212e8744662a46c7f36380066c7": {
          "model_module": "@jupyter-widgets/controls",
          "model_name": "HTMLModel",
          "state": {
            "_view_name": "HTMLView",
            "style": "IPY_MODEL_60ecab20cbb542d0bfe5a3b2a47ab4aa",
            "_dom_classes": [],
            "description": "",
            "_model_name": "HTMLModel",
            "placeholder": "​",
            "_view_module": "@jupyter-widgets/controls",
            "_model_module_version": "1.5.0",
            "value": " 46/1000 [01:16&lt;09:56,  1.60it/s]",
            "_view_count": null,
            "_view_module_version": "1.5.0",
            "description_tooltip": null,
            "_model_module": "@jupyter-widgets/controls",
            "layout": "IPY_MODEL_a38162aa78a3482999ffa999ad7ad2fa"
          }
        },
        "9be07a4219c044869c7df613d315e86a": {
          "model_module": "@jupyter-widgets/controls",
          "model_name": "ProgressStyleModel",
          "state": {
            "_view_name": "StyleView",
            "_model_name": "ProgressStyleModel",
            "description_width": "initial",
            "_view_module": "@jupyter-widgets/base",
            "_model_module_version": "1.5.0",
            "_view_count": null,
            "_view_module_version": "1.2.0",
            "bar_color": null,
            "_model_module": "@jupyter-widgets/controls"
          }
        },
        "4d4114d49f0b4dcea179ae547d5d5aef": {
          "model_module": "@jupyter-widgets/base",
          "model_name": "LayoutModel",
          "state": {
            "_view_name": "LayoutView",
            "grid_template_rows": null,
            "right": null,
            "justify_content": null,
            "_view_module": "@jupyter-widgets/base",
            "overflow": null,
            "_model_module_version": "1.2.0",
            "_view_count": null,
            "flex_flow": null,
            "width": null,
            "min_width": null,
            "border": null,
            "align_items": null,
            "bottom": null,
            "_model_module": "@jupyter-widgets/base",
            "top": null,
            "grid_column": null,
            "overflow_y": null,
            "overflow_x": null,
            "grid_auto_flow": null,
            "grid_area": null,
            "grid_template_columns": null,
            "flex": null,
            "_model_name": "LayoutModel",
            "justify_items": null,
            "grid_row": null,
            "max_height": null,
            "align_content": null,
            "visibility": null,
            "align_self": null,
            "height": null,
            "min_height": null,
            "padding": null,
            "grid_auto_rows": null,
            "grid_gap": null,
            "max_width": null,
            "order": null,
            "_view_module_version": "1.2.0",
            "grid_template_areas": null,
            "object_position": null,
            "object_fit": null,
            "grid_auto_columns": null,
            "margin": null,
            "display": null,
            "left": null
          }
        },
        "60ecab20cbb542d0bfe5a3b2a47ab4aa": {
          "model_module": "@jupyter-widgets/controls",
          "model_name": "DescriptionStyleModel",
          "state": {
            "_view_name": "StyleView",
            "_model_name": "DescriptionStyleModel",
            "description_width": "",
            "_view_module": "@jupyter-widgets/base",
            "_model_module_version": "1.5.0",
            "_view_count": null,
            "_view_module_version": "1.2.0",
            "_model_module": "@jupyter-widgets/controls"
          }
        },
        "a38162aa78a3482999ffa999ad7ad2fa": {
          "model_module": "@jupyter-widgets/base",
          "model_name": "LayoutModel",
          "state": {
            "_view_name": "LayoutView",
            "grid_template_rows": null,
            "right": null,
            "justify_content": null,
            "_view_module": "@jupyter-widgets/base",
            "overflow": null,
            "_model_module_version": "1.2.0",
            "_view_count": null,
            "flex_flow": null,
            "width": null,
            "min_width": null,
            "border": null,
            "align_items": null,
            "bottom": null,
            "_model_module": "@jupyter-widgets/base",
            "top": null,
            "grid_column": null,
            "overflow_y": null,
            "overflow_x": null,
            "grid_auto_flow": null,
            "grid_area": null,
            "grid_template_columns": null,
            "flex": null,
            "_model_name": "LayoutModel",
            "justify_items": null,
            "grid_row": null,
            "max_height": null,
            "align_content": null,
            "visibility": null,
            "align_self": null,
            "height": null,
            "min_height": null,
            "padding": null,
            "grid_auto_rows": null,
            "grid_gap": null,
            "max_width": null,
            "order": null,
            "_view_module_version": "1.2.0",
            "grid_template_areas": null,
            "object_position": null,
            "object_fit": null,
            "grid_auto_columns": null,
            "margin": null,
            "display": null,
            "left": null
          }
        }
      }
    }
  },
  "cells": [
    {
      "cell_type": "markdown",
      "metadata": {
        "id": "view-in-github",
        "colab_type": "text"
      },
      "source": [
        "<a href=\"https://colab.research.google.com/github/GyuhoonK/munhwa_bigdata/blob/master/POS_konlpy.ipynb\" target=\"_parent\"><img src=\"https://colab.research.google.com/assets/colab-badge.svg\" alt=\"Open In Colab\"/></a>"
      ]
    },
    {
      "cell_type": "code",
      "metadata": {
        "id": "nYaOd_jRh7IX",
        "colab_type": "code",
        "colab": {
          "base_uri": "https://localhost:8080/",
          "height": 35
        },
        "outputId": "614837a4-8e7a-476a-9f95-388d88c3051f"
      },
      "source": [
        "## Colab을 사용한다면, 이 셀을 실행해주세요\n",
        "from google.colab import auth\n",
        "auth.authenticate_user()\n",
        "from google.colab import drive\n",
        "drive.mount('/content/gdrive')"
      ],
      "execution_count": 2,
      "outputs": [
        {
          "output_type": "stream",
          "text": [
            "Drive already mounted at /content/gdrive; to attempt to forcibly remount, call drive.mount(\"/content/gdrive\", force_remount=True).\n"
          ],
          "name": "stdout"
        }
      ]
    },
    {
      "cell_type": "code",
      "metadata": {
        "id": "4JAH-9Lsht-b",
        "colab_type": "code",
        "colab": {}
      },
      "source": [
        "# 형태소 분석과 텍스트 전처리를 위해 필요한 라이브러리입니다\n",
        "# 설치되어 있지 않으신 분은 설치해주세요(colab 기본 라이브러리가 아니므로 colab 연결시마다 실행해야합니다)\n",
        "!pip install -q konlpy \n",
        "!pip install -q demoji"
      ],
      "execution_count": 19,
      "outputs": []
    },
    {
      "cell_type": "code",
      "metadata": {
        "id": "HPJRSKX5icuj",
        "colab_type": "code",
        "colab": {
          "base_uri": "https://localhost:8080/",
          "height": 89
        },
        "outputId": "42790d93-5964-4a0b-b6d3-373b1d31d09a"
      },
      "source": [
        "import demoji\n",
        "demoji.download_codes()\n",
        "\n",
        "import pickle\n",
        "import os\n",
        "import glob\n",
        "from IPython.display import clear_output\n",
        "\n",
        "import numpy as np\n",
        "import pandas as pd\n",
        "import re\n",
        "from collections import defaultdict\n",
        "from tqdm import tqdm_notebook\n",
        "import datetime\n",
        "\n",
        "import matplotlib.pyplot as plt\n",
        "\n",
        "from math import ceil\n",
        "\n",
        "#DATA_PATH : 기본 경로입니다. ipynb 파일이 저장된 폴더 경로를 지정해주세요\n",
        "DATA_PATH = '/content/gdrive/My Drive/Colab Notebooks/munhwa_bigdata'\n",
        "#PKL_PATH : pkl 파일이 저장된 경로를 지정해주세요\n",
        "PKL_PATH = os.path.join(DATA_PATH, 'pkl')\n",
        "#POS_PATH : 형태소 분석 결과를 저장할 폴더 경로를 지정해주세요\n",
        "SAVE_PATH = os.path.join(DATA_PATH, 'pos')"
      ],
      "execution_count": 17,
      "outputs": [
        {
          "output_type": "stream",
          "text": [
            "Downloading emoji data ...\n",
            "... OK (Got response in 0.10 seconds)\n",
            "Writing emoji data to /root/.demoji/codes.json ...\n",
            "... OK\n"
          ],
          "name": "stdout"
        }
      ]
    },
    {
      "cell_type": "code",
      "metadata": {
        "id": "vW-Yk_AEkscy",
        "colab_type": "code",
        "colab": {}
      },
      "source": [
        "def remove_emoji(text):\n",
        "  return_text = text.lower()\n",
        "  emoji_pattern = re.compile(\"[\"\n",
        "      u\"\\U0001F600-\\U0001F64F\"  # emoticons\n",
        "      u\"\\U0001F300-\\U0001F5FF\"  # symbols & pictographs\n",
        "      u\"\\U0001F680-\\U0001F6FF\"  # transport & map symbols\n",
        "      u\"\\U0001F1E0-\\U0001F1FF\"  # flags (iOS)\n",
        "                        \"]+\", flags = re.UNICODE) \n",
        "  return_text = emoji_pattern.sub(r' ', return_text)\n",
        "  \n",
        "  return return_text\n",
        "\n",
        "def remove_date(text):\n",
        "  date_re = re.compile('\\d{4}\\.\\s\\d{1,2}\\.\\s\\d{1,2}\\.\\s\\d{1,2}\\:\\d{1,2}')\n",
        "  return_text = date_re.sub(r' ', text)\n",
        "  return return_text\n",
        "\n",
        "def remove_char(text):\n",
        "  char = re.compile('[!@#$%^&*()\\-_+=`~[\\]/\\\\,?\\\\n\\\\t\\;<>|]')\n",
        "  return_text = char.sub(r' ',text)\n",
        "  dots = re.compile('\\.+')\n",
        "  return_text = dots.sub(r'.', return_text)\n",
        "  semidots = re.compile('\\,+')\n",
        "  return_text = semidots.sub(r',', return_text)\n",
        "  return return_text\n",
        "\n",
        "def remove_doublespace(text):\n",
        "  if len(text) == 0 : return ''\n",
        "  if text[0] == ' ':\n",
        "    text = text[1:]\n",
        "  if len(text) == 0 : return ''\n",
        "  if text[-1] == ' ':\n",
        "    text = text[:-1]\n",
        "  return_text = text.replace('  ',' ')\n",
        "  return return_text\n",
        "  "
      ],
      "execution_count": 18,
      "outputs": []
    },
    {
      "cell_type": "code",
      "metadata": {
        "id": "HwCZcBHHpIhC",
        "colab_type": "code",
        "colab": {}
      },
      "source": [
        "##preprocessing##\n",
        "def get_removedtext(text):\n",
        "  removed_text = demoji.replace(text, ' ')\n",
        "  removed_text = remove_date(removed_text)\n",
        "  removed_text = remove_char(removed_text)\n",
        "  removed_text = remove_doublespace(removed_text)\n",
        "  return removed_text"
      ],
      "execution_count": 19,
      "outputs": []
    },
    {
      "cell_type": "code",
      "metadata": {
        "id": "hUMN3tI0cxha",
        "colab_type": "code",
        "colab": {}
      },
      "source": [
        "def select_pos(tagged_sent, selected_pos):\n",
        " return [word for word, pos in tagged_sent if pos in selected_pos]"
      ],
      "execution_count": 20,
      "outputs": []
    },
    {
      "cell_type": "code",
      "metadata": {
        "id": "Yv6VbN4ScUhS",
        "colab_type": "code",
        "colab": {}
      },
      "source": [
        "def get_rawdocument(document, USE_POS):\n",
        "  return_docu = ''\n",
        "  for i in tqdm_notebook(range(len(document))):\n",
        "    for t in list(map(get_removedtext, document[i])):\n",
        "      if re.match('\\s+', t):\n",
        "        if re.match('\\s+', t).span()  == (0, len(t)) :\n",
        "          continue\n",
        "      try:\n",
        "        result = kkma.pos(t)\n",
        "        return_docu += ' '.join(select_pos(result, USE_POS)) + ' '\n",
        "      except :\n",
        "        pass\n",
        "  return return_docu"
      ],
      "execution_count": 21,
      "outputs": []
    },
    {
      "cell_type": "code",
      "metadata": {
        "id": "ghNt9vXgFbK-",
        "colab_type": "code",
        "colab": {}
      },
      "source": [
        "## 꼬꼬마 형태소 분석기를 사용합니다\n",
        "from konlpy.tag import Kkma\n",
        "\n",
        "kkma = Kkma()"
      ],
      "execution_count": 22,
      "outputs": []
    },
    {
      "cell_type": "code",
      "metadata": {
        "id": "hRqmaaW0gJZp",
        "colab_type": "code",
        "colab": {
          "base_uri": "https://localhost:8080/",
          "height": 243,
          "referenced_widgets": [
            "86e8c100fcb344fd97ef0d5deff1de31",
            "84f3093420ab4a1a933fe855f6092c05",
            "17cf6695c69a42c2bfe6e48e1497742b",
            "43b8029c1f9f44488f8e008a775ff008",
            "57ce055aa371412f911b4671e6fce6f7",
            "e9f2ad16662e4fefba97146df5ec49c8",
            "7b6bcced302b44c597a2dba8af87da1b",
            "05f57c1c349d4df994e1bad5dc275769",
            "342d094d693d4b6eb3b3c94883164eb0",
            "9ec5041c4c424e528be9c5baac590e9f",
            "52f551e114b04dda99d71e8710e72a56",
            "35f44212e8744662a46c7f36380066c7",
            "9be07a4219c044869c7df613d315e86a",
            "4d4114d49f0b4dcea179ae547d5d5aef",
            "60ecab20cbb542d0bfe5a3b2a47ab4aa",
            "a38162aa78a3482999ffa999ad7ad2fa"
          ]
        },
        "outputId": "22e5d31f-2473-4da1-ca0e-0eddcc33fe87"
      },
      "source": [
        "USE_POS = ['NNG', 'NNP', 'VV','VA','XR'] #사용할 품사는 NNG(일반명사), NNP(고유명사), VV(동사), VA(형용사), XR(어근) 입니다\n",
        "\n",
        "PKL_FILE = glob.glob(os.path.join(PKL_PATH, '*.pkl'))\n",
        "#아래 세가지 중에 자신이 맡은 부분의 주석을 해제해주세요\n",
        "with open(os.path.join(PKL_PATH, \"PKL_LIST1.pkl\"), \"rb\") as f:\n",
        "#with open(os.path.join(PKL_PATH, \"PKL_LIST2.pkl\"), \"rb\") as f:\n",
        "#with open(os.path.join(PKL_PATH, \"PKL_LIST3.pkl\"), \"rb\") as f:\n",
        "    YOUR_PKL = pickle.load(f)\n",
        "\n",
        "for pkl in tqdm_notebook(YOUR_PKL):\n",
        "  print(\"{}.pkl 진행 중 ....\".format(pkl))\n",
        "  city = pkl\n",
        "  done = list(map(lambda x : os.path.splitext(x)[0], list(map(lambda x : os.path.basename(x) , glob.glob(os.path.join(SAVE_PATH, '*.pkl'))))))\n",
        "  if city in done :\n",
        "    continue\n",
        "  with open(os.path.join(PKL_PATH, \"{}.pkl\".format(pkl)), 'rb') as f:\n",
        "    bow = pickle.load(f)\n",
        "  f.close()   \n",
        "\n",
        "  result = {city:get_rawdocument(bow, USE_POS)}\n",
        "  with open(os.path.join(SAVE_PATH, '{}.pkl'.format(city)), 'wb') as f:\n",
        "    pickle.dump(result, f)\n",
        "  f.close()\n",
        "  clear_output(wait = True)"
      ],
      "execution_count": null,
      "outputs": [
        {
          "output_type": "stream",
          "text": [
            "/usr/local/lib/python3.6/dist-packages/ipykernel_launcher.py:10: TqdmDeprecationWarning: This function will be removed in tqdm==5.0.0\n",
            "Please use `tqdm.notebook.tqdm` instead of `tqdm.tqdm_notebook`\n",
            "  # Remove the CWD from sys.path while we load stuff.\n"
          ],
          "name": "stderr"
        },
        {
          "output_type": "display_data",
          "data": {
            "application/vnd.jupyter.widget-view+json": {
              "model_id": "86e8c100fcb344fd97ef0d5deff1de31",
              "version_minor": 0,
              "version_major": 2
            },
            "text/plain": [
              "HBox(children=(FloatProgress(value=0.0, max=70.0), HTML(value='')))"
            ]
          },
          "metadata": {
            "tags": []
          }
        },
        {
          "output_type": "stream",
          "text": [
            "영천 여행.pkl 진행 중 ....\n",
            "완도 여행.pkl 진행 중 ....\n",
            "옥천 여행.pkl 진행 중 ....\n"
          ],
          "name": "stdout"
        },
        {
          "output_type": "stream",
          "text": [
            "/usr/local/lib/python3.6/dist-packages/ipykernel_launcher.py:3: TqdmDeprecationWarning: This function will be removed in tqdm==5.0.0\n",
            "Please use `tqdm.notebook.tqdm` instead of `tqdm.tqdm_notebook`\n",
            "  This is separate from the ipykernel package so we can avoid doing imports until\n"
          ],
          "name": "stderr"
        },
        {
          "output_type": "display_data",
          "data": {
            "application/vnd.jupyter.widget-view+json": {
              "model_id": "342d094d693d4b6eb3b3c94883164eb0",
              "version_minor": 0,
              "version_major": 2
            },
            "text/plain": [
              "HBox(children=(FloatProgress(value=0.0, max=1000.0), HTML(value='')))"
            ]
          },
          "metadata": {
            "tags": []
          }
        }
      ]
    }
  ]
}